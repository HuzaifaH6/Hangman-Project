{
  "nbformat": 4,
  "nbformat_minor": 0,
  "metadata": {
    "colab": {
      "provenance": [],
      "authorship_tag": "ABX9TyNIuY2Gdi0ZBb19GYHFlkQM",
      "include_colab_link": true
    },
    "kernelspec": {
      "name": "python3",
      "display_name": "Python 3"
    },
    "language_info": {
      "name": "python"
    }
  },
  "cells": [
    {
      "cell_type": "markdown",
      "metadata": {
        "id": "view-in-github",
        "colab_type": "text"
      },
      "source": [
        "<a href=\"https://colab.research.google.com/github/HuzaifaH6/Hangman-Project/blob/main/Hangman_Project.ipynb\" target=\"_parent\"><img src=\"https://colab.research.google.com/assets/colab-badge.svg\" alt=\"Open In Colab\"/></a>"
      ]
    },
    {
      "cell_type": "code",
      "source": [
        "import random\n",
        "\n",
        "# Function to select a random word\n",
        "def choose_word():\n",
        "    words = [\"python\", \"java\", \"kotlin\", \"javascript\" , \"ruby\", \"php\"]\n",
        "    return random.choice(words)\n",
        "\n",
        "# Function to show the current guessed word state\n",
        "def display_word(word, guessed_letters):\n",
        "    result = \"\"\n",
        "    for letter in word:\n",
        "        if letter in guessed_letters:\n",
        "            result += letter + \" \"\n",
        "        else:\n",
        "            result += \"_ \"\n",
        "    return result.strip()\n",
        "\n",
        "# Main game function\n",
        "def hangman():\n",
        "    word = choose_word()\n",
        "    guessed_letters = set()\n",
        "    attempts = 6\n",
        "\n",
        "    print(\"Welcome to Hangman!\")\n",
        "\n",
        "    while attempts > 0:\n",
        "        print(\"\\nWord: \" + display_word(word, guessed_letters))\n",
        "        guess = input(\"Guess a letter: \").lower()\n",
        "\n",
        "        # Check if letter was already guessed\n",
        "        if guess in guessed_letters:\n",
        "            print(\"You already guessed that letter.\")\n",
        "            continue\n",
        "\n",
        "        guessed_letters.add(guess)  # Add guessed letter\n",
        "\n",
        "        if guess in word:\n",
        "            # Check if all letters are guessed\n",
        "            if all(letter in guessed_letters for letter in word):\n",
        "                print(\"\\nCongratulations! You guessed the word:\", word)\n",
        "                return\n",
        "        else:\n",
        "            attempts -= 1\n",
        "            print(f\"Wrong guess! Attempts left: {attempts}\")\n",
        "\n",
        "    print(\"\\nGame over! The word was:\", word)\n",
        "\n",
        "\n",
        "hangman()\n"
      ],
      "metadata": {
        "id": "RyIXk5aoi_VX"
      },
      "execution_count": null,
      "outputs": []
    }
  ]
}